{
 "metadata": {
  "kernelspec": {
   "display_name": "Streamlit Notebook",
   "name": "streamlit"
  },
  "lastEditStatus": {
   "notebookId": "tbhzjfdag4oczoqap2kw",
   "authorId": "36383805897",
   "authorName": "JSOLIZ",
   "authorEmail": "javier.soliz@snowflake.com",
   "sessionId": "bf029304-79d3-4dcf-8c28-5d751ce93d47",
   "lastEditTime": 1747340406677
  }
 },
 "nbformat_minor": 5,
 "nbformat": 4,
 "cells": [
  {
   "cell_type": "markdown",
   "id": "fdde93f3-682d-4a65-b6d0-ed7a09a294c9",
   "metadata": {
    "collapsed": false,
    "name": "cell1"
   },
   "source": [
    "## Visualize your data with Streamlit\n",
    "\n",
    "Create interactive charts using Streamlit, directly in your Notebook\n",
    "\n",
    "Make you upload the `environment.yml` and `diamonds.csv` in this folder!"
   ]
  },
  {
   "cell_type": "code",
   "execution_count": null,
   "id": "3775908f-ca36-4846-8f38-5adca39217f2",
   "metadata": {
    "language": "python",
    "name": "cell2"
   },
   "outputs": [],
   "source": [
    "import streamlit as st\n",
    "import altair as alt\n",
    "import pandas as pd"
   ]
  },
  {
   "cell_type": "code",
   "execution_count": null,
   "id": "b7267b04-e687-4af7-ba37-e58e11bf9536",
   "metadata": {
    "language": "python",
    "name": "cell3",
    "codeCollapsed": false
   },
   "outputs": [],
   "source": [
    "df = pd.read_csv('diamonds.csv')\n",
    "df.head()"
   ]
  },
  {
   "cell_type": "code",
   "execution_count": null,
   "id": "9e30ae99-ac7a-4a0c-84b4-947a5ced09ff",
   "metadata": {
    "language": "python",
    "name": "cell4",
    "codeCollapsed": false
   },
   "outputs": [],
   "source": [
    "import streamlit as st\n",
    "import altair as alt\n",
    "\n",
    "st.title(\"Diamond Carat vs Price Analysis\")\n",
    "\n",
    "chart = alt.Chart(df).mark_circle().encode(\n",
    "    x='carat',\n",
    "    y='price',\n",
    "    color='cut',\n",
    "    tooltip=['carat', 'price', 'cut', 'color']\n",
    ").properties(\n",
    "    width=600,\n",
    "    height=400\n",
    ")\n",
    "\n",
    "st.altair_chart(chart, use_container_width=True)"
   ]
  },
  {
   "cell_type": "code",
   "execution_count": null,
   "id": "034e1f17-6e37-4ea6-b9f5-2709ac963e22",
   "metadata": {
    "language": "python",
    "name": "cell5",
    "codeCollapsed": false
   },
   "outputs": [],
   "source": [
    "import streamlit as st\n",
    "import altair as alt\n",
    "\n",
    "\n",
    "st.title(\"Diamond Analysis Dashboard\")\n",
    "\n",
    "# Create metrics for quick statistics\n",
    "col1, col2, col3 = st.columns(3)\n",
    "with col1:\n",
    "    st.metric(\"Average Price\", f\"${df['price'].mean():,.2f}\")\n",
    "with col2:\n",
    "    st.metric(\"Average Carat\", f\"{df['carat'].mean():.2f}\")\n",
    "with col3:\n",
    "    st.metric(\"Price Range\", f\"${df['price'].min():,} - ${df['price'].max():,}\")\n",
    "\n",
    "# Create filters\n",
    "col1, col2 = st.columns(2)\n",
    "with col1:\n",
    "    cut_selection = st.multiselect(\"Select Cut\", \n",
    "                                 options=sorted(df['cut'].unique()), \n",
    "                                 default=sorted(df['cut'].unique()))\n",
    "with col2:\n",
    "    color_selection = st.multiselect(\"Select Color\", \n",
    "                                   options=sorted(df['color'].unique()), \n",
    "                                   default=sorted(df['color'].unique()))\n",
    "\n",
    "price_range = st.slider(\"Price Range\", \n",
    "                       min_value=int(df['price'].min()), \n",
    "                       max_value=int(df['price'].max()),\n",
    "                       value=(int(df['price'].min()), int(df['price'].max())))\n",
    "\n",
    "# Cache the filtering operation\n",
    "@st.cache_data\n",
    "def filter_data(df, cuts, colors, price_min, price_max):\n",
    "    return df[\n",
    "        (df['cut'].isin(cuts)) &\n",
    "        (df['color'].isin(colors)) &\n",
    "        (df['price'].between(price_min, price_max))\n",
    "    ]\n",
    "\n",
    "# Apply filters using cached function\n",
    "filtered_df = filter_data(df, cut_selection, color_selection, price_range[0], price_range[1])\n",
    "\n",
    "# Create visualizations\n",
    "col1, col2 = st.columns(2)\n",
    "\n",
    "with col1:\n",
    "    st.subheader(\"Price Distribution by Cut\")\n",
    "    chart1 = alt.Chart(filtered_df).mark_boxplot().encode(\n",
    "        x='cut:N',\n",
    "        y='price:Q',\n",
    "        color='cut:N'\n",
    "    ).properties(height=300)\n",
    "    st.altair_chart(chart1, use_container_width=True)\n",
    "\n",
    "with col2:\n",
    "    st.subheader(\"Carat vs Price\")\n",
    "    chart2 = alt.Chart(filtered_df).mark_circle().encode(\n",
    "        x='carat:Q',\n",
    "        y='price:Q',\n",
    "        color='cut:N',\n",
    "        tooltip=['cut', 'color', 'price', 'carat']\n",
    "    ).properties(height=300)\n",
    "    st.altair_chart(chart2, use_container_width=True)\n",
    "\n",
    "# Show average price by cut and color\n",
    "st.subheader(\"Average Price by Cut and Color\")\n",
    "avg_price_chart = alt.Chart(filtered_df).mark_rect().encode(\n",
    "    x='cut:N',\n",
    "    y='color:N',\n",
    "    color=alt.Color('mean(price):Q', scale=alt.Scale(scheme='viridis')),\n",
    "    tooltip=['cut', 'color', alt.Tooltip('mean(price):Q', format='$,.2f')]\n",
    ").properties(height=200)\n",
    "st.altair_chart(avg_price_chart, use_container_width=True)"
   ]
  },
  {
   "cell_type": "markdown",
   "id": "44fef0ef-0b46-400c-abcf-e568f8d56a24",
   "metadata": {
    "name": "cell6",
    "collapsed": false
   },
   "source": "Push this update to GitHub!"
  }
 ]
}